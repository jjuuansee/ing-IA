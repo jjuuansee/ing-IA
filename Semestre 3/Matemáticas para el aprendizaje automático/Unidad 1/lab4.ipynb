{
 "cells": [
  {
   "cell_type": "markdown",
   "metadata": {},
   "source": [
    "# Laboratorio 4: Precisión Numérica y Condicionamiento de Problemas\n",
    "\n",
    "### Introducción\n",
    "\n",
    "En este laboratorio, exploraremos los conceptos de precisión numérica y condicionamiento de problemas discutidos en la Clase 4. Investigaremos cómo las computadoras representan y manipulan números de punto flotante, las limitaciones de estas representaciones, y cómo estas limitaciones pueden afectar la precisión de nuestros cálculos. También examinaremos el concepto de condicionamiento de problemas y cómo afecta la estabilidad de los algoritmos numéricos.\n",
    "\n",
    "### Estructura del Laboratorio\n",
    "1. Precisión Numérica y Punto Flotante\n",
    "    1. Punto Flotante (IEEE 754)\n",
    "    2. Epsilon de máquina\n",
    "    3. Errores en la aritmética de punto flotante\n",
    "2. Condicionamiento de Problemas"
   ]
  },
  {
   "cell_type": "markdown",
   "metadata": {},
   "source": [
    "## 1. Precisión Numérica y Punto Flotante\n",
    "### 1.1 Punto Flotante (IEEE 754)\n",
    "\n",
    "**Ejercicio 1.1.1** Defina en numpy una variable `x=0.1` e imprimala utilizando `print(f\"{x:.20f}\")` ¿Qué valor tiene `x`? ¿Es exactamente 0.1? ¿Por qué?\n",
    "\n",
    "*NOTA:* La notación `f\"{x:.20f}\"` imprime el valor de `x` con 20 decimales.\n",
    "\n",
    "La clase `float` de Python utiliza por defecto precisión doble (64 bits).  `numpy` permite seleccionar la precisión de los números flotantes. Por ejemplo, `np.float32` crea un número flotante de precisión simple (32 bits).\n",
    "\n",
    "**Ejercicio 1.1.2** Defina en numpy una variable `x=0.1` como un número flotante de doble precisión e imprimala utilizando `print(f\"{x:.20f}\")` ¿Qué valor tiene `x`? \n",
    "\n",
    "**Ejercicio 1.1.3** Defina en numpy una variable `x=0.1` como un número flotante de precisión simple e imprimala utilizando `print(f\"{x:.20f}\")` ¿Qué valor tiene `x`? \n",
    "\n",
    "**Ejercicio 1.1.4** Defina en numpy una variable `x=0.1` como un número flotante de media precisión e imprimala utilizando `print(f\"{x:.20f}\")` ¿Qué valor tiene `x`? \n",
    "\n",
    "*NOTA:* La precisión de los números flotantes en `numpy` se puede seleccionar utilizando `np.float16`, `np.float32`, `np.float64`.\n",
    "\n",
    "**Ejericio 1.1.5** La función `np.fininfo` de `numpy` permite obtener información sobre los números flotantes. Utilice esta función para obtener información sobre los números flotantes de precisión simple, doble y media. ¿Cuál es la precisión de cada uno de estos tipos de números flotantes?"
   ]
  },
  {
   "cell_type": "code",
   "execution_count": 6,
   "metadata": {},
   "outputs": [
    {
     "name": "stdout",
     "output_type": "stream",
     "text": [
      "---------------------------------------------------------------\n",
      "Los valores decimales son: 0.10000000000000000555\n",
      "Los valores decimales son: 0.10000000000000000555\n",
      "Los valores decimales son: 0.10000000149011611938\n",
      "Los valores decimales son: 0.09997558593750000000\n",
      "---------------------------------------------------------------\n",
      "Información sobre números flotantes de precisión media (float16):\n",
      "Machine parameters for float16\n",
      "---------------------------------------------------------------\n",
      "precision =   3   resolution = 1.00040e-03\n",
      "machep =    -10   eps =        9.76562e-04\n",
      "negep =     -11   epsneg =     4.88281e-04\n",
      "minexp =    -14   tiny =       6.10352e-05\n",
      "maxexp =     16   max =        6.55040e+04\n",
      "nexp =        5   min =        -max\n",
      "smallest_normal = 6.10352e-05   smallest_subnormal = 5.96046e-08\n",
      "---------------------------------------------------------------\n",
      "\n",
      "\n",
      "Información sobre números flotantes de precisión simple (float32):\n",
      "Machine parameters for float32\n",
      "---------------------------------------------------------------\n",
      "precision =   6   resolution = 1.0000000e-06\n",
      "machep =    -23   eps =        1.1920929e-07\n",
      "negep =     -24   epsneg =     5.9604645e-08\n",
      "minexp =   -126   tiny =       1.1754944e-38\n",
      "maxexp =    128   max =        3.4028235e+38\n",
      "nexp =        8   min =        -max\n",
      "smallest_normal = 1.1754944e-38   smallest_subnormal = 1.4012985e-45\n",
      "---------------------------------------------------------------\n",
      "\n",
      "\n",
      "Información sobre números flotantes de precisión doble (float64):\n",
      "Machine parameters for float64\n",
      "---------------------------------------------------------------\n",
      "precision =  15   resolution = 1.0000000000000001e-15\n",
      "machep =    -52   eps =        2.2204460492503131e-16\n",
      "negep =     -53   epsneg =     1.1102230246251565e-16\n",
      "minexp =  -1022   tiny =       2.2250738585072014e-308\n",
      "maxexp =   1024   max =        1.7976931348623157e+308\n",
      "nexp =       11   min =        -max\n",
      "smallest_normal = 2.2250738585072014e-308   smallest_subnormal = 4.9406564584124654e-324\n",
      "---------------------------------------------------------------\n",
      "\n"
     ]
    }
   ],
   "source": [
    "import numpy as np\n",
    "# --------------------------------------\n",
    "# Ejercicio 1.1.1\n",
    "# --------------------------------------\n",
    "print(\"-\"*63)\n",
    "x = 0.1\n",
    "print(f\"Los valores decimales son: {x:.20f}\")\n",
    "\n",
    "# --------------------------------------\n",
    "# Ejercicio 1.1.2\n",
    "# --------------------------------------\n",
    "\n",
    "y = np.float64(0.1)\n",
    "print(f\"Los valores decimales son: {y:.20f}\")\n",
    "\n",
    "# --------------------------------------\n",
    "# Ejercicio 1.1.3\n",
    "# --------------------------------------\n",
    "\n",
    "z = np.float32(0.1)\n",
    "print(f\"Los valores decimales son: {z:.20f}\")\n",
    "\n",
    "# --------------------------------------\n",
    "# Ejercicio 1.1.4\n",
    "# --------------------------------------\n",
    "\n",
    "a = np.float16(0.1)\n",
    "print(f\"Los valores decimales son: {a:.20f}\")\n",
    "print(\"-\"*63)\n",
    "\n",
    "# --------------------------------------\n",
    "# Ejercicio 1.1.5\n",
    "# --------------------------------------\n",
    "\n",
    "info_float16 = np.finfo(np.float16)\n",
    "info_float32 = np.finfo(np.float32)\n",
    "info_float64 = np.finfo(np.float64)\n",
    "\n",
    "print(\"Información sobre números flotantes de precisión media (float16):\")\n",
    "print(info_float16)\n",
    "\n",
    "print(\"\\nInformación sobre números flotantes de precisión simple (float32):\")\n",
    "print(info_float32)\n",
    "\n",
    "print(\"\\nInformación sobre números flotantes de precisión doble (float64):\")\n",
    "print(info_float64)\n"
   ]
  },
  {
   "cell_type": "markdown",
   "metadata": {},
   "source": [
    "### 1.2 Precisión relativa y epsilon de máquina\n",
    "La función `math.nextafter()` de Python devuelve el siguiente número de punto flotante más cercano a un número dado en la dirección especificada. Por ejemplo, `math.nextafter(1.0, math.inf)` devuelve el siguiente número de punto flotante más grande después de 1.0. \n",
    "\n",
    "**Ejercicio 1.2.1** Utilice la función `math.nextafter()` para calcular la distancia entre los siguientes números: `0.001, 1.0, 1000.` y el siguiente número de punto flotante más grande. Imprima la distancia absoluta y relativa entre dichos números y el siguiente en la representación de punto flotante. ¿Qué puede concluir sobre la precisión de los números de punto flotante?\n",
    "\n",
    "**Ejercicio 1.2.2** Busque el valor de `epsilon` en Python y comparelo con el valor de las precisiones relativas calculadas en el Ejercicio 1.2.1. "
   ]
  },
  {
   "cell_type": "code",
   "execution_count": null,
   "metadata": {},
   "outputs": [
    {
     "name": "stdout",
     "output_type": "stream",
     "text": [
      "2.220446049250313e-16\n",
      "2.168404344971009e-19\n",
      "2.220446049250313e-16\n",
      "1.1368683772161603e-13\n",
      "Epsilon en Python: 2.220446049250313e-16\n",
      "True\n"
     ]
    }
   ],
   "source": [
    "import math\n",
    "\n",
    "# ------------------------------\n",
    "# Ejercicio 1.2.1\n",
    "# ------------------------------\n",
    "\n",
    "epsilon_de_maquina = (math.nextafter(1.0, math.inf)) - 1\n",
    "# El epsilon de máquina es la distancia entre 1 y el siguiente número más cercano representable.\n",
    "print(epsilon_de_maquina)\n",
    "\n",
    "flotante = (math.nextafter(0.001, math.inf)) - 0.001\n",
    "flotante2 = (math.nextafter(1.0, math.inf)) - 1\n",
    "flotante3 = (math.nextafter(1000, math.inf)) - 1000\n",
    "\n",
    "print(f\"{flotante}\\n{flotante2}\\n{flotante3}\")\n",
    "\n",
    "# ------------------------------\n",
    "# Ejercicio 1.2.2\n",
    "# ------------------------------\n",
    "\n",
    "epsilon = np.finfo(float).eps\n",
    "print(f\"Epsilon en Python: {epsilon}\")\n",
    "print(epsilon_de_maquina == epsilon)\n"
   ]
  },
  {
   "cell_type": "markdown",
   "metadata": {},
   "source": [
    "### 1.3 Errores en la aritmética de punto flotante\n",
    "La aritmética de punto flotante es aproximada.  En general, es posible esperar que las operaciones en punto flotante respeten el \"axioma\":\n",
    "$$ x \\oplus y = (x + y)(1 + \\epsilon), \\, \\epsilon \\leq \\epsilon_{\\text{maq}}$$\n",
    "donde $\\oplus$ es una operación cualquiera de punto flotante entre dos elementos $x$ e $y$, $+$ es la operación en aritmética (real) estándar y $\\epsilon$ es el error relativo de la operación.\n",
    "\n",
    "**Ejercicio 1.3.1: Precisión aritmética** Considere los números $x=0.1$ e $y=0.2$. Calcule su suma $z=x+y$ en punto flotante y evalúe la expresión booleana `z==0.3`. ¿Qué sucede? Calcule el error relativo respecto del valor esperado y comparelo con el valor de $\\epsilon_{\\text{maq}}$. ¿El error relativo de la suma es menor o mayor que $\\epsilon_{\\text{maq}}$?\n",
    "\n",
    "**Ejercicio 1.3.2: Operaciones irrelevantes** Considere los números $x=1e16$ e $y=1$. Calcule su suma $z=x+y$ en punto flotante y evalúe la expresión booleana `z==x`. ¿Qué sucede/ Calcule el error relativo respecto del valor esperado y comparelo con el valor de $\\epsilon_{\\text{maq}}$. ¿El error relativo de la resta es menor o mayor que $\\epsilon_{\\text{maq}}$?\n",
    "\n",
    "**Ejercicio 1.3.3: Cancelación catastrófica** Considere los números $x=0.123456789012345678$ y $y=0.123456789012345677$. Calcule su resta $z=x-y$ en punto flotante y evalúe la expresión booleana `z==0`. ¿Qué sucede? Calcule el error relativo respecto del valor esperado y comparelo con el valor de $\\epsilon_{\\text{maq}}$. ¿El error relativo de la resta es menor o mayor que $\\epsilon_{\\text{maq}}$?\n",
    "\n",
    "**Ejercicio 1.3.4: overflow** Estime (a mano o programáticamente) el orden de magnitud de $e^{800}$ y luego calcúlelo en python directamente. *Sugerencia:* note que $e^x = 10^{800\\log_{10}(e)}$\n",
    "\n",
    "**Ejercicio 1.3.5: underflow** Repita el ejercicio anterior para $e^{-800}$"
   ]
  },
  {
   "cell_type": "code",
   "execution_count": null,
   "metadata": {},
   "outputs": [
    {
     "name": "stdout",
     "output_type": "stream",
     "text": [
      "z == 0.3: False\n",
      "Error relativo: 1.8503717077085943e-16\n",
      "Error relativo < epsilon_de_maquina: True\n"
     ]
    }
   ],
   "source": [
    "# --------------------------------\n",
    "# Ejercicio 1.3.1\n",
    "# --------------------------------\n",
    "\n",
    "x = 0.1\n",
    "y = 0.2\n",
    "z = x + y\n",
    "\n",
    "print(f\"z == 0.3: {z == 0.3}\")\n",
    "\n",
    "# Error relativo respecto al valor esperado\n",
    "valor_esperado = 0.3\n",
    "error_relativo = abs(z - valor_esperado) / valor_esperado\n",
    "print(f\"Error relativo: {error_relativo}\")\n",
    "\n",
    "# Comparación con epsilon de máquina\n",
    "print(f\"Error relativo <= epsilon_de_maquina: {error_relativo <= epsilon_de_maquina}\")\n",
    "\n",
    "# El error relativo es menor que el epsilon de máquina, cumpliendo así con la definición\n"
   ]
  },
  {
   "cell_type": "code",
   "execution_count": null,
   "metadata": {},
   "outputs": [
    {
     "name": "stdout",
     "output_type": "stream",
     "text": [
      "z == x: True\n",
      "Error relativo: 0.0\n",
      "Error relativo <= epsilon_de_maquina: True\n"
     ]
    }
   ],
   "source": [
    "# --------------------------------\n",
    "# Ejercicio 1.3.2\n",
    "# --------------------------------\n",
    "\n",
    "x = 1e16\n",
    "y = 1\n",
    "z = x + y\n",
    "\n",
    "print(f\"z == x: {z == x}\")\n",
    "\n",
    "# Error relativo respecto al valor esperado\n",
    "valor_esperado = 10000000000000001.0\n",
    "error_relativo = abs(z - valor_esperado) / valor_esperado\n",
    "print(f\"Error relativo: {error_relativo}\")\n",
    "\n",
    "# Comparación con epsilon de máquina\n",
    "print(f\"Error relativo <= epsilon_de_maquina: {error_relativo <= epsilon_de_maquina}\")\n",
    "\n",
    "# El error relativo es menor que el epsilon de máquina y además es igual a 0, cumpliendo así con la definición"
   ]
  },
  {
   "cell_type": "code",
   "execution_count": 4,
   "metadata": {},
   "outputs": [
    {
     "name": "stdout",
     "output_type": "stream",
     "text": [
      "z == x: True\n",
      "Error relativo: 1.0\n"
     ]
    },
    {
     "ename": "NameError",
     "evalue": "name 'epsilon_de_maquina' is not defined",
     "output_type": "error",
     "traceback": [
      "\u001b[31m---------------------------------------------------------------------------\u001b[39m",
      "\u001b[31mNameError\u001b[39m                                 Traceback (most recent call last)",
      "\u001b[36mCell\u001b[39m\u001b[36m \u001b[39m\u001b[32mIn[4]\u001b[39m\u001b[32m, line 17\u001b[39m\n\u001b[32m     14\u001b[39m \u001b[38;5;28mprint\u001b[39m(\u001b[33mf\u001b[39m\u001b[33m\"\u001b[39m\u001b[33mError relativo: \u001b[39m\u001b[38;5;132;01m{\u001b[39;00merror_relativo\u001b[38;5;132;01m}\u001b[39;00m\u001b[33m\"\u001b[39m)\n\u001b[32m     16\u001b[39m \u001b[38;5;66;03m# Comparación con epsilon de máquina\u001b[39;00m\n\u001b[32m---> \u001b[39m\u001b[32m17\u001b[39m \u001b[38;5;28mprint\u001b[39m(\u001b[33mf\u001b[39m\u001b[33m\"\u001b[39m\u001b[33mError relativo <= epsilon_de_maquina: \u001b[39m\u001b[38;5;132;01m{\u001b[39;00merror_relativo\u001b[38;5;250m \u001b[39m<=\u001b[38;5;250m \u001b[39m\u001b[43mepsilon_de_maquina\u001b[49m\u001b[38;5;132;01m}\u001b[39;00m\u001b[33m\"\u001b[39m)\n\u001b[32m     19\u001b[39m \u001b[38;5;66;03m# El error relativo es mayor que el epsilon de máquina y además es igual a 1, ya que al considerar que z es igual a 0\u001b[39;00m\n\u001b[32m     20\u001b[39m \u001b[38;5;66;03m# se divide al valor esperado por sí mismo causando el error en la definición.\u001b[39;00m\n",
      "\u001b[31mNameError\u001b[39m: name 'epsilon_de_maquina' is not defined"
     ]
    }
   ],
   "source": [
    "# --------------------------------\n",
    "# Ejercicio 1.3.3\n",
    "# --------------------------------\n",
    "\n",
    "x = 0.123456789012345678\n",
    "y = 0.123456789012345677\n",
    "z = x - y\n",
    "\n",
    "print(f\"z == x: {z == 0}\")\n",
    "\n",
    "# Error relativo respecto al valor esperado\n",
    "valor_esperado = 0.000000000000000001\n",
    "error_relativo = abs(z - valor_esperado) / valor_esperado\n",
    "print(f\"Error relativo: {error_relativo}\")\n",
    "\n",
    "# Comparación con epsilon de máquina\n",
    "print(f\"Error relativo <= epsilon_de_maquina: {error_relativo <= epsilon_de_maquina}\")\n",
    "\n",
    "# El error relativo es mayor que el epsilon de máquina y además es igual a 1, ya que al considerar que z es igual a 0\n",
    "# se divide al valor esperado por sí mismo causando el error en la definición."
   ]
  },
  {
   "cell_type": "code",
   "execution_count": 28,
   "metadata": {},
   "outputs": [
    {
     "name": "stdout",
     "output_type": "stream",
     "text": [
      "Orden de magnitud de e^800: 10^347.43558552260146\n",
      "OverflowError: El resultado es demasiado grande para representarlo.\n",
      "\n",
      "Orden de magnitud de e^-800: 10^-347.4356\n",
      "Resultado directo de e^-800: 0.0000e+00\n"
     ]
    }
   ],
   "source": [
    "# --------------------------------\n",
    "# Ejercicio 1.3.4\n",
    "# --------------------------------\n",
    "\n",
    "orden_magnitud = 800 * math.log10(math.e) # Es un número gigantesco: un 1 seguido de ~347 ceros.\n",
    "print(f\"Orden de magnitud de e^800: 10^{orden_magnitud}\")\n",
    "\n",
    "# Cálculo directo de e^800\n",
    "try:\n",
    "    resultado = math.exp(800)\n",
    "    print(f\"Resultado directo de e^800: {resultado}\\n\")\n",
    "except OverflowError:\n",
    "    print(\"OverflowError: El resultado es demasiado grande para representarlo.\\n\")\n",
    "\n",
    "# --------------------------------\n",
    "# Ejercicio 1.3.5\n",
    "# --------------------------------\n",
    "\n",
    "orden_magnitud = -800 * math.log10(math.e)\n",
    "print(f\"Orden de magnitud de e^-800: 10^{orden_magnitud:.4f}\")\n",
    "\n",
    "try:\n",
    "    resultado = math.exp(-800)\n",
    "    print(f\"Resultado directo de e^-800: {resultado:.4e}\")  \n",
    "except OverflowError:\n",
    "    print(\"OverflowError: El resultado es demasiado pequeño para representarlo.\")\n"
   ]
  },
  {
   "cell_type": "markdown",
   "metadata": {},
   "source": [
    "## 2. Condicionamiento de Problemas\n",
    "### 2.1 Condicionamiento de un problema\n",
    "El condicionamiento de un problema es una medida de cuánto cambia la solución de un problema cuando se cambian los datos de entrada. Un problema mal condicionado es aquel en el que pequeñas variaciones en los datos de entrada pueden resultar en grandes variaciones en la solución.  Un ejemplo clásico de un problema mal condicionado es el siguiente sistema lineal: \n",
    "\n",
    "$$\\begin{bmatrix} 1 & 2 \\\\ 2 & 4.0001 \\end{bmatrix} x = b$$\n",
    "\n",
    "Con cualquier valor de $b$. \n",
    "\n",
    "**Ejercicio 2.1.1:** Sea $b_1=\\begin{bmatrix} 3 \\\\ 6.0001 \\end{bmatrix}$, halle la solución del sistema a mano.  Repita para $b_2=\\begin{bmatrix} 3 \\\\ 6.0002 \\end{bmatrix}$.   Calcule la variación relativa de la solución sobre la variación relativa del vector b:\n",
    "$$ \\frac{\\|x_2-x_1\\|}{\\|x_1\\|} / \\frac{\\|b_2-b_1\\|}{\\|b_1\\|}$$\n",
    "\n",
    "**Ejercicio 2.1.2:** Calcule el número de condición de la matriz $A$.  Muestre que el cociente del problema anterior es menor este número de condición. \n",
    "\n",
    "**Ejercicio 2.1.3:** Utilizando representación flotante de precisión simple, resuelva los problemas anteriores en numpy.  Calcule el error relativo respecto de la respuesta correcta calculada en los ejercicios anteriores. ¿Por qué?"
   ]
  },
  {
   "cell_type": "code",
   "execution_count": null,
   "metadata": {},
   "outputs": [
    {
     "name": "stdout",
     "output_type": "stream",
     "text": [
      "Valores [1.999968e-05 5.000080e+00]\n"
     ]
    },
    {
     "ename": "NameError",
     "evalue": "name 'x' is not defined",
     "output_type": "error",
     "traceback": [
      "\u001b[31m---------------------------------------------------------------------------\u001b[39m",
      "\u001b[31mNameError\u001b[39m                                 Traceback (most recent call last)",
      "\u001b[36mCell\u001b[39m\u001b[36m \u001b[39m\u001b[32mIn[2]\u001b[39m\u001b[32m, line 18\u001b[39m\n\u001b[32m     15\u001b[39m vals = np.linalg.eigvals(A)\n\u001b[32m     16\u001b[39m \u001b[38;5;28mprint\u001b[39m(\u001b[33m\"\u001b[39m\u001b[33mValores\u001b[39m\u001b[33m\"\u001b[39m, vals)\n\u001b[32m---> \u001b[39m\u001b[32m18\u001b[39m variacion_relativa_solucion = np.linalg.norm(x2 - \u001b[43mx\u001b[49m) / np.linalg.norm(x1)\n\u001b[32m     19\u001b[39m variacion_relativa_b = np.linalg.norm(b2 - b1) / np.linalg.norm(b1)\n\u001b[32m     20\u001b[39m formula = variacion_relativa_solucion / variacion_relativa_b\n",
      "\u001b[31mNameError\u001b[39m: name 'x' is not defined"
     ]
    }
   ],
   "source": [
    "# --------------------------------\n",
    "# Ejercicio 2.1.1\n",
    "# --------------------------------\n",
    "\n",
    "A = np.array([[1, 2], \n",
    "              [2, 4.0001]])\n",
    "\n",
    "b1 = np.array([3, 6.0001])\n",
    "x1 = np.linalg.solve(A, b1)\n",
    "\n",
    "b2 = b = np.array([3, 6.0002])\n",
    "x2 = np.linalg.solve(A, b2)\n",
    "vals = np.linalg.eigvals(A)\n",
    "print(\"Valores\", vals)\n",
    "\n",
    "variacion_relativa_solucion = np.linalg.norm(x2 - x) / np.linalg.norm(x1)\n",
    "variacion_relativa_b = np.linalg.norm(b2 - b1) / np.linalg.norm(b1)\n",
    "formula = variacion_relativa_solucion / variacion_relativa_b\n",
    "\n",
    "print(f\"Variación relativa de la solución: {variacion_relativa_solucion}\")\n",
    "print(f\"Variación relativa de b: {variacion_relativa_b}\")\n",
    "print(f\"Condicionamiento: {formula}\")\n"
   ]
  },
  {
   "cell_type": "code",
   "execution_count": null,
   "metadata": {},
   "outputs": [
    {
     "name": "stdout",
     "output_type": "stream",
     "text": [
      "Número de condición de la matriz A: 250008.00009210614\n",
      "El cociente del problema anterior (106067.43139414866) es menor que el número\n",
      "de condición (250008.00009210614): True\n"
     ]
    }
   ],
   "source": [
    "# --------------------------------\n",
    "# Ejercicio 2.1.2\n",
    "# --------------------------------\n",
    "\n",
    "# Cálculo del número de condición de la matriz A\n",
    "numero_condicion = np.linalg.cond(A, p=2)\n",
    "\n",
    "print(f\"Número de condición de la matriz A: {numero_condicion}\")\n",
    "# La matriz A está mal condicionada, por lo tanto, es muy sensible a errores en los datos.\n",
    "\n",
    "print(f\"El cociente del problema anterior ({formula}) es menor que el número de condición ({numero_condicion}): {formula < numero_condicion}\")"
   ]
  },
  {
   "cell_type": "code",
   "execution_count": null,
   "metadata": {},
   "outputs": [
    {
     "name": "stdout",
     "output_type": "stream",
     "text": [
      "Error relativo para x1 (precisión simple): 0.0\n",
      "Error relativo para x2 (precisión simple): 0.004761910447400291\n"
     ]
    }
   ],
   "source": [
    "# --------------------------------\n",
    "# Ejercicio 2.1.3\n",
    "# --------------------------------\n",
    "\n",
    "# Convertir la matriz A y los vectores b1 y b2 a precisión simple\n",
    "A_float32 = A.astype(np.float32)\n",
    "b1_float32 = b1.astype(np.float32)\n",
    "b2_float32 = b2.astype(np.float32)\n",
    "\n",
    "# Resolver los sistemas lineales con precisión simple\n",
    "x1_float32 = np.linalg.solve(A_float32, b1_float32)\n",
    "x2_float32 = np.linalg.solve(A_float32, b2_float32)\n",
    "\n",
    "# Calcular el error relativo respecto a las soluciones originales\n",
    "error_relativo_x1 = np.linalg.norm(x1_float32 - x1) / np.linalg.norm(x1)\n",
    "error_relativo_x2 = np.linalg.norm(x2_float32 - x2) / np.linalg.norm(x2)\n",
    "\n",
    "print(f\"Error relativo para x1 (precisión simple): {error_relativo_x1}\")\n",
    "print(f\"Error relativo para x2 (precisión simple): {error_relativo_x2}\")\n",
    "\n",
    "# En x1: el resultado de float32 coincidió con float64 porque el sistema era relativamente \n",
    "# estable en ese punto (o porque los errores estaban dentro del rango tolerado por float32).\n",
    "\n",
    "# En x2: el sistema estaba en una zona mucho más sensible, y la menor precisión sí afectó \n",
    "# notablemente la solución."
   ]
  },
  {
   "cell_type": "markdown",
   "metadata": {},
   "source": [
    "### 2.2 Propagación de errores y estabilidad algorítmica.\n",
    "Los errores numéricos se propagan a través de los cálculos. Supongamos que queremos calcular:\n",
    "$$f(x) = \\sqrt{x+1}-\\sqrt{x}$$ \n",
    "En el caso de que $x$ es muy grande, la resta de dos números casi iguales puede llevar a errores grandes (cancelación catastrófica).  Sin embargo, si reescribimos la función como:\n",
    "$$f(x) = \\frac{(\\sqrt{x+1}-\\sqrt{x})(\\sqrt{x+1}+\\sqrt{x})}{\\sqrt{x+1}+\\sqrt{x}} = \\frac{x+1-x}{\\sqrt{x+1}+\\sqrt{x}} = \\frac{1}{\\sqrt{x+1}+\\sqrt{x}}$$\n",
    "podemos evitar la cancelación catastrófica.\n",
    "\n",
    "Es decir: distintas estrategias de cálculo (algoritmos) pueden llevar a resultados con distintos niveles de precisión.\n",
    "\n",
    "**Ejercicio 2.2.1:** Implemente las dos formas de calcular $f(x)$ en python.  Evalúe los resultados para $x=10$, $x=10^12$ y $x=10^{16}$. ¿Qué puede concluir sobre la estabilidad de los algoritmos?\n",
    "\n",
    "**Ejercicio 2.2.2:** Considere el problema de hallar los valores propios de una matrix $A$ dada por:\n",
    "$$A = \\begin{pmatrix} 1+\\epsilon & 0 \\\\ 0 & 1 \\end{pmatrix}$$\n",
    "donde $\\epsilon$ es un número muy pequeño. Halle los valores propios de $A$ mediante cálculo directo (*Nota:* la matriz A es diagonal). Implemente un algoritmo para calcular los valores propios de $A$ mediante el cálculo y resolución del polinomio característico. Utilice su función para evaluar el caso en que $\\epsilon=10^{-14}$.  Compare los resultados de este método con el cálculo directo realizado previamente. ¿Qué puede concluir sobre la precisión y estabilidad del algoritmo utilizados?\n",
    "\n",
    "**Ejercicio 2.2.3:** Determine el número de condición de la matriz anterior.  ¿Es esperada la pérdida de precisión observada en el cálculo de los valores propios?\n",
    "\n",
    "**Ejercicio 2.2.4:** Repita el ejercicio 2.1.2 utilizando ahora  `np.linalg.eigvals()` en lugar de calcular las raícies del polinomio característico. ¿Qué puede concluir sobre la precisión y estabilidad del algoritmo utilizado?"
   ]
  },
  {
   "cell_type": "code",
   "execution_count": null,
   "metadata": {},
   "outputs": [
    {
     "name": "stdout",
     "output_type": "stream",
     "text": [
      "x = 10\n",
      "f_original(x) = 0.1543471301870203\n",
      "f_reformulada(x) = 0.1543471301870205\n",
      "Diferencia absoluta: 2.220446049250313e-16\n",
      "\n",
      "x = 1000000000000.0\n",
      "f_original(x) = 5.00003807246685e-07\n",
      "f_reformulada(x) = 4.999999999998749e-07\n",
      "Diferencia absoluta: 3.807246810093941e-12\n",
      "\n",
      "x = 1e+16\n",
      "f_original(x) = 0.0\n",
      "f_reformulada(x) = 5e-09\n",
      "Diferencia absoluta: 5e-09\n",
      "\n"
     ]
    }
   ],
   "source": [
    "# ---------------------------------\n",
    "# Ejercicio 2.2.1\n",
    "# ---------------------------------\n",
    "\n",
    "def f_original(x):\n",
    "    return math.sqrt(x + 1) - math.sqrt(x)\n",
    "\n",
    "def f_reformulada(x):\n",
    "    return 1 / (math.sqrt(x + 1) + math.sqrt(x))\n",
    "\n",
    "# Evaluación para los valores dados\n",
    "valores_x = [10, 1e12, 1e16]\n",
    "for x in valores_x:\n",
    "    resultado_original = f_original(x)\n",
    "    resultado_reformulada = f_reformulada(x)\n",
    "    print(f\"x = {x}\")\n",
    "    print(f\"f_original(x) = {resultado_original}\")\n",
    "    print(f\"f_reformulada(x) = {resultado_reformulada}\")\n",
    "    print(f\"Diferencia absoluta: {abs(resultado_original - resultado_reformulada)}\\n\")\n",
    "\n",
    "\n",
    "# Con los valores 1e^{12} y 1e^{16} podemos notar que la propagación de errores se hacen relevantes.\n",
    "# Reescribiendo la formula se puede evitar la cancelación catastrófica."
   ]
  },
  {
   "cell_type": "code",
   "execution_count": null,
   "metadata": {},
   "outputs": [
    {
     "name": "stdout",
     "output_type": "stream",
     "text": [
      "Valores propios calculados directamente: [1.00000000000001 1.              ]\n",
      "Valores propios calculados mediante el polinomio característico: [1.0000000000000049+2.1073424255447067e-08j\n",
      " 1.0000000000000049-2.1073424255447067e-08j]\n"
     ]
    }
   ],
   "source": [
    "# ---------------------------------\n",
    "# Ejercicio 2.2.2\n",
    "# ---------------------------------\n",
    "\n",
    "def calculo_directo(epsilon):\n",
    "    A = np.array([[1 + epsilon, 0], [0, 1]])\n",
    "    valores_propios_directos = np.diag(A)\n",
    "    return valores_propios_directos\n",
    "\n",
    "\n",
    "def resolucion_poly_caracteristico(epsilon):\n",
    "    A = np.array([[1 + epsilon, 0], [0, 1]])\n",
    "    polinomio_caracteristico = np.poly(A)\n",
    "    valores_propios_polinomio = np.roots(polinomio_caracteristico)\n",
    "    return valores_propios_polinomio\n",
    "\n",
    "epsilon = 1e-14\n",
    "valores_propios_directos = calculo_directo(epsilon)\n",
    "valores_propios_polinomio = resolucion_poly_caracteristico(epsilon)\n",
    "\n",
    "np.set_printoptions(precision=17) # Agrego para que devuelva el valor directo\n",
    "print(f\"Valores propios calculados directamente: {valores_propios_directos}\")\n",
    "print(f\"Valores propios calculados mediante el polinomio característico: {valores_propios_polinomio}\")\n",
    "\n",
    "\n",
    "# El cálculo directo de los valores propios es más preciso y estable cuando la matriz es diagonal,\n",
    "# ya que simplemente extrae los elementos de la diagonal sin realizar operaciones numéricamente inestables.\n",
    "# Por otro lado, el método que utiliza el polinomio característico puede sufrir pérdida de precisión,\n",
    "# especialmente cuando epsilon es muy pequeño, debido a cancelaciones numéricas al resolver el polinomio.\n",
    "# Por esta razón, en la práctica, no se recomienda usar el polinomio característico para calcular valores propios\n",
    "# cuando se pueden emplear métodos más estables como la descomposición o funciones optimizadas como numpy.linalg.eig().\n"
   ]
  },
  {
   "cell_type": "code",
   "execution_count": null,
   "metadata": {},
   "outputs": [
    {
     "name": "stdout",
     "output_type": "stream",
     "text": [
      "El valor de condicíon de la matriz A es: \n",
      " 2.0\n"
     ]
    }
   ],
   "source": [
    "# ---------------------------------\n",
    "# Ejercicio 2.2.3\n",
    "# ---------------------------------\n",
    "\n",
    "condicion = np.linalg.cond(A)\n",
    "print(\"El valor de condicíon de la matriz A es: \\n\", condicion)\n",
    "\n",
    "# El número de condición de A es muy chico, lo que convierte a A en una matriz estable. Por lo tanto el error\n",
    "# que se da en el cálculo de los valores propios es por el método utilizado."
   ]
  },
  {
   "cell_type": "code",
   "execution_count": null,
   "metadata": {},
   "outputs": [
    {
     "name": "stdout",
     "output_type": "stream",
     "text": [
      "Valores propios calculados con np.linalg.eigvals(): [1.00000000000001 1.              ]\n",
      "Valores propios calculados mediante el polinomio característico: [1.0000000000000049+2.1073424255447067e-08j\n",
      " 1.0000000000000049-2.1073424255447067e-08j]\n",
      "Conclusión:\n",
      "El método np.linalg.eigvals() es más preciso y estable que el cálculo mediante el polinomio característico,\n",
      "ya que evita las cancelaciones numéricas y otros errores asociados con la resolución de polinomios.\n"
     ]
    }
   ],
   "source": [
    "# ---------------------------------\n",
    "# Ejercicio 2.2.4\n",
    "# ---------------------------------\n",
    "\n",
    "epsilon = 1e-14\n",
    "A = np.array([[1 + epsilon, 0],\n",
    "              [0, 1]])\n",
    "valores_propios_eigvals = np.linalg.eigvals(A)\n",
    "\n",
    "print(f\"Valores propios calculados con np.linalg.eigvals(): {valores_propios_eigvals}\")\n",
    "print(f\"Valores propios calculados mediante el polinomio característico: {valores_propios_polinomio}\")\n",
    "\n",
    "# El método np.linalg.eigvals() es más preciso y estable que el cálculo mediante el polinomio característico,\n",
    "# ya que evita las cancelaciones numéricas y otros errores asociados con la resolución de polinomios."
   ]
  }
 ],
 "metadata": {
  "kernelspec": {
   "display_name": "venv",
   "language": "python",
   "name": "python3"
  },
  "language_info": {
   "codemirror_mode": {
    "name": "ipython",
    "version": 3
   },
   "file_extension": ".py",
   "mimetype": "text/x-python",
   "name": "python",
   "nbconvert_exporter": "python",
   "pygments_lexer": "ipython3",
   "version": "3.13.5"
  }
 },
 "nbformat": 4,
 "nbformat_minor": 2
}
